{
 "cells": [
  {
   "cell_type": "code",
   "execution_count": 1,
   "id": "c1b732df",
   "metadata": {},
   "outputs": [],
   "source": [
    "from torchvision.transforms import functional as F\n",
    "from torchvision import transforms\n",
    "import cv2\n",
    "import numpy as np\n",
    "import random\n",
    "from PIL import Image\n",
    "import os\n",
    "\n",
    "from torchvision.transforms import functional as F\n",
    "from torchvision import transforms"
   ]
  },
  {
   "cell_type": "code",
   "execution_count": 2,
   "id": "8a333243",
   "metadata": {},
   "outputs": [],
   "source": [
    "# Moderate_Demented 변수를 수정하여 새로 만들 이미지 갯수를 정합니다.\n",
    "Moderate_Demented_augmented_images = 2509"
   ]
  },
  {
   "cell_type": "code",
   "execution_count": 3,
   "id": "57c18acd",
   "metadata": {},
   "outputs": [],
   "source": [
    "file_path = '/Users/seunghalee/3학년 2학기 파이썬 기반 딥러닝/train/ModerateDemented/'\n",
    "file_path2 = '/Users/seunghalee/Desktop/Data_Augmentaion/ModerateDemented/'\n",
    "file_names = os.listdir(file_path)\n",
    "total_origin_image_num = len(file_names)\n",
    "augment_cnt = 1\n",
    "\n",
    "for i in range(1, Moderate_Demented_augmented_images):\n",
    "    change_picture_index = random.randrange(1, total_origin_image_num-1)\n",
    "    file_name = file_names[change_picture_index]\n",
    "\n",
    "    origin_image_path = file_path + file_name  # 경로 수정\n",
    "    image = Image.open(origin_image_path)\n",
    "    random_augment = random.randrange(1,7)\n",
    "\n",
    "    if(random_augment == 1):\n",
    "        #이미지 좌우 반전\n",
    "        inverted_image = image.transpose(Image.FLIP_LEFT_RIGHT)\n",
    "        inverted_image.save(file_path2 + 'moderateDem_inverted_' + str(augment_cnt) + '.jpg')\n",
    "\n",
    "    elif(random_augment == 2):\n",
    "        #이미지 기울이기\n",
    "        rotated_image = image.rotate(random.randrange(-20, 20))\n",
    "        rotated_image.save(file_path2 + 'moderateDem_rotated_' + str(augment_cnt) + '.jpg')\n",
    "\n",
    "    elif(random_augment == 3):\n",
    "        #노이즈 추가하기\n",
    "        img = cv2.imread(origin_image_path)\n",
    "        row,col,ch= img.shape\n",
    "        mean = 0\n",
    "        var = 0.1\n",
    "        sigma = var**0.5\n",
    "        gauss = np.random.normal(mean,sigma,(row,col,ch))\n",
    "        gauss = gauss.reshape(row,col,ch)\n",
    "        noisy_array = img + gauss\n",
    "        noisy_image = Image.fromarray(np.uint8(noisy_array)).convert('RGB')\n",
    "        noisy_image.save(file_path2 + 'moderateDem_noiseAdded_' + str(augment_cnt) + '.jpg')\n",
    "\n",
    "    elif(random_augment == 4):\n",
    "        # Brightness\n",
    "        brightness_image = F.adjust_brightness(image, 1.5)\n",
    "        brightness_image.save(file_path2 + 'moderateDem_brightness_' + str(augment_cnt) + '.jpg')\n",
    "\n",
    "    elif(random_augment == 5):\n",
    "        # Saturation\n",
    "        saturation_image = F.adjust_saturation(image, 2)\n",
    "        saturation_image.save(file_path2 + 'moderateDem_saturation_' + str(augment_cnt) + '.jpg')\n",
    "\n",
    "    elif(random_augment == 6):\n",
    "        # ColorJitter\n",
    "        jitter_image = transforms.ColorJitter(brightness=0.5, contrast=0.5, saturation=0.5, hue=0.1)(image)\n",
    "        jitter_image.save(file_path2 + 'moderateDem_jitter_' + str(augment_cnt) + '.jpg')\n",
    "\n",
    "    augment_cnt += 1"
   ]
  },
  {
   "cell_type": "code",
   "execution_count": 4,
   "id": "d1530f63",
   "metadata": {},
   "outputs": [
    {
     "name": "stdout",
     "output_type": "stream",
     "text": [
      "2508\n"
     ]
    }
   ],
   "source": [
    "file_names_after = os.listdir(file_path2)\n",
    "print(len(file_names_after)) # 2508"
   ]
  },
  {
   "cell_type": "code",
   "execution_count": 5,
   "id": "c91fc717",
   "metadata": {},
   "outputs": [],
   "source": [
    "# Mild_Demented 변수를 수정하여 새로 만들 이미지 갯수를 정합니다.\n",
    "Mild_Demented_augmented_images = 1844"
   ]
  },
  {
   "cell_type": "code",
   "execution_count": 6,
   "id": "6c59bf1a",
   "metadata": {},
   "outputs": [],
   "source": [
    "file_path = '/Users/seunghalee/3학년 2학기 파이썬 기반 딥러닝/train/MildDemented/'\n",
    "file_path2 = '/Users/seunghalee/Desktop/Data_Augmentaion/MildDemented/'\n",
    "file_names = os.listdir(file_path)\n",
    "total_origin_image_num = len(file_names)\n",
    "augment_cnt = 1\n",
    "\n",
    "for i in range(1, Mild_Demented_augmented_images):\n",
    "    change_picture_index = random.randrange(1, total_origin_image_num-1)\n",
    "    file_name = file_names[change_picture_index]\n",
    "\n",
    "    origin_image_path = file_path + file_name  # 경로 수정\n",
    "    image = Image.open(origin_image_path)\n",
    "    random_augment = random.randrange(1,7)\n",
    "\n",
    "    if(random_augment == 1):\n",
    "        #이미지 좌우 반전\n",
    "        inverted_image = image.transpose(Image.FLIP_LEFT_RIGHT)\n",
    "        inverted_image.save(file_path2 + 'mildDem_inverted_' + str(augment_cnt) + '.jpg')\n",
    "\n",
    "    elif(random_augment == 2):\n",
    "        #이미지 기울이기\n",
    "        rotated_image = image.rotate(random.randrange(-20, 20))\n",
    "        rotated_image.save(file_path2 + 'mildDem_rotated_' + str(augment_cnt) + '.jpg')\n",
    "\n",
    "    elif(random_augment == 3):\n",
    "        #노이즈 추가하기\n",
    "        img = cv2.imread(origin_image_path)\n",
    "        row,col,ch= img.shape\n",
    "        mean = 0\n",
    "        var = 0.1\n",
    "        sigma = var**0.5\n",
    "        gauss = np.random.normal(mean,sigma,(row,col,ch))\n",
    "        gauss = gauss.reshape(row,col,ch)\n",
    "        noisy_array = img + gauss\n",
    "        noisy_image = Image.fromarray(np.uint8(noisy_array)).convert('RGB')\n",
    "        noisy_image.save(file_path2 + 'mildDem_noiseAdded_' + str(augment_cnt) + '.jpg')\n",
    "\n",
    "    elif(random_augment == 4):\n",
    "        # Brightness\n",
    "        brightness_image = F.adjust_brightness(image, 1.5)\n",
    "        brightness_image.save(file_path2 + 'mildDem_brightness_' + str(augment_cnt) + '.jpg')\n",
    "\n",
    "    elif(random_augment == 5):\n",
    "        # Saturation\n",
    "        saturation_image = F.adjust_saturation(image, 2)\n",
    "        saturation_image.save(file_path2 + 'mildDem_saturation_' + str(augment_cnt) + '.jpg')\n",
    "\n",
    "    elif(random_augment == 6):\n",
    "        # ColorJitter\n",
    "        jitter_image = transforms.ColorJitter(brightness=0.5, contrast=0.5, saturation=0.5, hue=0.1)(image)\n",
    "        jitter_image.save(file_path2 + 'mildDem_jitter_' + str(augment_cnt) + '.jpg')\n",
    "\n",
    "    augment_cnt += 1"
   ]
  },
  {
   "cell_type": "code",
   "execution_count": 7,
   "id": "2fee47f4",
   "metadata": {},
   "outputs": [
    {
     "name": "stdout",
     "output_type": "stream",
     "text": [
      "1843\n"
     ]
    }
   ],
   "source": [
    "file_names_after = os.listdir(file_path2)\n",
    "print(len(file_names_after)) # 2508 + 1843 = 4351"
   ]
  },
  {
   "cell_type": "code",
   "execution_count": 8,
   "id": "d6802e60",
   "metadata": {},
   "outputs": [],
   "source": [
    "# VeryMild_Demented 변수를 수정하여 새로 만들 이미지 갯수를 정합니다.\n",
    "VeryMild_Demented_augmented_images = 769"
   ]
  },
  {
   "cell_type": "code",
   "execution_count": 9,
   "id": "0a7491c9",
   "metadata": {},
   "outputs": [],
   "source": [
    "file_path = '/Users/seunghalee/3학년 2학기 파이썬 기반 딥러닝/train/VeryMildDemented/'\n",
    "file_path2 = '/Users/seunghalee/Desktop/Data_Augmentaion/VeryMildDemented/'\n",
    "file_names = os.listdir(file_path)\n",
    "total_origin_image_num = len(file_names)\n",
    "augment_cnt = 1\n",
    "\n",
    "for i in range(1, VeryMild_Demented_augmented_images):\n",
    "    change_picture_index = random.randrange(1, total_origin_image_num-1)\n",
    "    file_name = file_names[change_picture_index]\n",
    "\n",
    "    origin_image_path = file_path + file_name  # 경로 수정\n",
    "    image = Image.open(origin_image_path)\n",
    "    random_augment = random.randrange(1,7)\n",
    "\n",
    "    if(random_augment == 1):\n",
    "        #이미지 좌우 반전\n",
    "        inverted_image = image.transpose(Image.FLIP_LEFT_RIGHT)\n",
    "        inverted_image.save(file_path2 + 'verymildDem_inverted_' + str(augment_cnt) + '.jpg')\n",
    "\n",
    "    elif(random_augment == 2):\n",
    "        #이미지 기울이기\n",
    "        rotated_image = image.rotate(random.randrange(-20, 20))\n",
    "        rotated_image.save(file_path2 + 'verymildDem_rotated_' + str(augment_cnt) + '.jpg')\n",
    "\n",
    "    elif(random_augment == 3):\n",
    "        #노이즈 추가하기\n",
    "        img = cv2.imread(origin_image_path)\n",
    "        row,col,ch= img.shape\n",
    "        mean = 0\n",
    "        var = 0.1\n",
    "        sigma = var**0.5\n",
    "        gauss = np.random.normal(mean,sigma,(row,col,ch))\n",
    "        gauss = gauss.reshape(row,col,ch)\n",
    "        noisy_array = img + gauss\n",
    "        noisy_image = Image.fromarray(np.uint8(noisy_array)).convert('RGB')\n",
    "        noisy_image.save(file_path2 + 'verymildDem_noiseAdded_' + str(augment_cnt) + '.jpg')\n",
    "\n",
    "    elif(random_augment == 4):\n",
    "        # Brightness\n",
    "        brightness_image = F.adjust_brightness(image, 1.5)\n",
    "        brightness_image.save(file_path2 + 'verymildDem_brightness_' + str(augment_cnt) + '.jpg')\n",
    "\n",
    "    elif(random_augment == 5):\n",
    "        # Saturation\n",
    "        saturation_image = F.adjust_saturation(image, 2)\n",
    "        saturation_image.save(file_path2 + 'verymildDem_saturation_' + str(augment_cnt) + '.jpg')\n",
    "\n",
    "    elif(random_augment == 6):\n",
    "        # ColorJitter\n",
    "        jitter_image = transforms.ColorJitter(brightness=0.5, contrast=0.5, saturation=0.5, hue=0.1)(image)\n",
    "        jitter_image.save(file_path2 + 'verymildDem_jitter_' + str(augment_cnt) + '.jpg')\n",
    "\n",
    "    augment_cnt += 1"
   ]
  },
  {
   "cell_type": "code",
   "execution_count": 10,
   "id": "6b00f21e",
   "metadata": {},
   "outputs": [
    {
     "name": "stdout",
     "output_type": "stream",
     "text": [
      "768\n"
     ]
    }
   ],
   "source": [
    "file_names_after = os.listdir(file_path2)\n",
    "print(len(file_names_after)) # 2508 + 1843 + 768 = 5119"
   ]
  }
 ],
 "metadata": {
  "kernelspec": {
   "display_name": "Python 3 (ipykernel)",
   "language": "python",
   "name": "python3"
  },
  "language_info": {
   "codemirror_mode": {
    "name": "ipython",
    "version": 3
   },
   "file_extension": ".py",
   "mimetype": "text/x-python",
   "name": "python",
   "nbconvert_exporter": "python",
   "pygments_lexer": "ipython3",
   "version": "3.9.18"
  },
  "toc": {
   "base_numbering": 1,
   "nav_menu": {},
   "number_sections": true,
   "sideBar": true,
   "skip_h1_title": false,
   "title_cell": "Table of Contents",
   "title_sidebar": "Contents",
   "toc_cell": false,
   "toc_position": {},
   "toc_section_display": true,
   "toc_window_display": false
  }
 },
 "nbformat": 4,
 "nbformat_minor": 5
}
